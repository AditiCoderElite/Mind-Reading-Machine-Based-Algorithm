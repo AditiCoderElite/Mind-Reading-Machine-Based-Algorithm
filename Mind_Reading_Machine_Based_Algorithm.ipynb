{
  "nbformat": 4,
  "nbformat_minor": 0,
  "metadata": {
    "colab": {
      "provenance": [],
      "include_colab_link": true
    },
    "kernelspec": {
      "name": "python3",
      "display_name": "Python 3"
    }
  },
  "cells": [
    {
      "cell_type": "markdown",
      "metadata": {
        "id": "view-in-github",
        "colab_type": "text"
      },
      "source": [
        "<a href=\"https://colab.research.google.com/github/AditiCoderElite/Mind-Reading-Machine-Based-Algorithm/blob/main/Mind_Reading_Machine_Based_Algorithm.ipynb\" target=\"_parent\"><img src=\"https://colab.research.google.com/assets/colab-badge.svg\" alt=\"Open In Colab\"/></a>"
      ]
    },
    {
      "cell_type": "markdown",
      "metadata": {
        "id": "gGOahF4k7-t2"
      },
      "source": [
        "\n",
        "\n",
        "# Mind Reading Machine Based Algorithm\n",
        "\n",
        "\n"
      ]
    },
    {
      "cell_type": "markdown",
      "metadata": {
        "id": "W_pFrdq162B2"
      },
      "source": [
        "---"
      ]
    },
    {
      "cell_type": "markdown",
      "metadata": {
        "id": "FeyN19o4gC_P"
      },
      "source": [
        "In this algorithm:\n",
        "\n",
        "1. The computer looks for certain patterns in the player inputs (`Heads` or `Tails`) and tries to remember them. Furthermore, it assumes that the player will follow these patterns the next time if the same situation arises.\n",
        "\n",
        "2. If an assumed pattern is not repeated at least twice by the player, the machine predicts `Heads` or `Tails` randomly.\n",
        "\n",
        "The types of patterns remembered, involve the outcome of two successive plays, i.e., whether or not the player won on those plays and whether the player changed their choice between the plays and after the plays.\n",
        "\n",
        "There are 8 possible situations and, for each situation, a player can do two things. These 8 situations are:\n",
        "\n",
        "1. The player **wins**, plays the **same** and **wins** again. The player then plays the same or plays differently.\n",
        "\n",
        "2. The player **wins**, plays the **same** and **loses**. The player then plays the same or plays differently.\n",
        "\n",
        "3. The player **wins**, plays **differently** and **wins** again. The player then plays the same or plays differently.\n",
        "\n",
        "4. The player **wins**, plays **differently** and **loses**. The player then plays the same or plays differently.\n",
        "\n",
        "5. The player **loses**, plays the **same** and **wins**. The player then plays the same or plays differently.\n",
        "\n",
        "6. The player **loses**, plays the **same** and **loses** again. The player then plays the same or plays differently.\n",
        "\n",
        "7. The player **loses**, plays **differently** and **wins**. The player then plays the same or plays differently.\n",
        "\n",
        "8. The player **loses**, plays **differently** and **loses** again. The player then plays the same or plays differently.\n",
        "\n",
        "Each situation corresponds to a different cell in the memory of a machine. Within a cell, two events are registered:\n",
        "\n",
        "1. Whether the last time this situation arose, the player played the same or different.\n",
        "\n",
        "2. Whether or not the behaviour indicated in the first point, was a repeat of the same behaviour in the preceding situation.\n",
        "\n"
      ]
    },
    {
      "cell_type": "markdown",
      "metadata": {
        "id": "l_ahJm30UqfP"
      },
      "source": [
        "---"
      ]
    },
    {
      "cell_type": "markdown",
      "metadata": {
        "id": "6D8fIaMVC6dM"
      },
      "source": [
        "#### Last Two Players Inputs\n",
        "\n",
        "The `last_1` and `last_2` variables keep track of the last two inputs of a player."
      ]
    },
    {
      "cell_type": "code",
      "metadata": {
        "id": "HoQ6NypDBUaO"
      },
      "source": [
        "last_1 = 0\n",
        "last_2 = 0"
      ],
      "execution_count": null,
      "outputs": []
    },
    {
      "cell_type": "markdown",
      "metadata": {
        "id": "M6zlCpmnxc8L"
      },
      "source": [
        "\n",
        "- `last_1` stores the last player input.\n",
        "\n",
        "- `last_2` stores the second-last player input.\n"
      ]
    },
    {
      "cell_type": "markdown",
      "metadata": {
        "id": "nYg8ypDcMCnt"
      },
      "source": [
        "\n",
        "\n",
        "---"
      ]
    },
    {
      "cell_type": "markdown",
      "metadata": {
        "id": "N3o05TxC_u4b"
      },
      "source": [
        "#### The `inputs` Array"
      ]
    },
    {
      "cell_type": "code",
      "metadata": {
        "id": "rRxf3tCIAMUZ",
        "colab": {
          "base_uri": "https://localhost:8080/"
        },
        "outputId": "ce6f49b6-02d4-4a5b-e483-91f4febe6128"
      },
      "source": [
        "import numpy as np\n",
        "\n",
        "inputs = np.zeros(shape=(2, 2, 2), dtype=int)\n",
        "inputs"
      ],
      "execution_count": null,
      "outputs": [
        {
          "output_type": "execute_result",
          "data": {
            "text/plain": [
              "array([[[0, 0],\n",
              "        [0, 0]],\n",
              "\n",
              "       [[0, 0],\n",
              "        [0, 0]]])"
            ]
          },
          "metadata": {},
          "execution_count": 2
        }
      ]
    },
    {
      "cell_type": "markdown",
      "metadata": {
        "id": "UdJPOfrTaLvx"
      },
      "source": [
        "The `inputs` array acts as a memory for the Mind Reader game.\n",
        "\n",
        "- The first column (`column_index = 0`) of the `inputs` array will store the current player input.\n",
        "\n",
        "- The second column (`column_index = 1`) will store whether a situation (out of the 8 possible situations) is repeated or not. The 8 possible situations are:\n",
        "\n",
        "|Situation|Second-Last Play|Last Play|Current Player Input|\n",
        "|-|-|-|-|\n",
        "|1.|`0`|`0`|`0`|\n",
        "|2.|`0`|`0`|`1`|\n",
        "|3.|`0`|`1`|`0`|\n",
        "|4.|`0`|`1`|`1`|\n",
        "|5.|`1`|`0`|`0`|\n",
        "|6.|`1`|`0`|`1`|\n",
        "|7.|`1`|`1`|`0`|\n",
        "|8.|`1`|`1`|`1`|\n",
        "\n",
        "where `0` denotes `Heads` and `1` denotes `Tails`.\n",
        "\n",
        "The blocks in the `inputs` array denote the second-last play.\n",
        "\n",
        "- If `last_2 = 0`, then the `last_1` value will go to the first/second row of the **first** block.\n",
        "\n",
        "- If `last_2 = 1`, then the `last_1` value will go to the first/second row of the **second** block.\n",
        "\n",
        "<img src = 'https://student-datasets-bucket.s3.ap-south-1.amazonaws.com/images/inputs_array.png' width=600>\n",
        "\n",
        "At a time, the **current player input** will either go to the first block or second block because the second-last play would either be `0` or `1`.\n",
        "\n",
        "Here are the possible ways in which the current player inputs will be recorded in the first block.\n",
        "\n",
        "1. All the items in the first column are `0`.\n",
        "\n",
        "  ```\n",
        "  [[0, is_a_repeat],\n",
        "    [0, is_a_repeat]]\n",
        "  ```\n",
        "\n",
        "2. The item in the first row and first column is `0` but the item in the second row and the first column is `1`.\n",
        "\n",
        "  ```\n",
        "  [[0, is_a_repeat],\n",
        "    [1, is_a_repeat]]\n",
        "  ```\n",
        "\n",
        "3. The item in the first row and first column is `1` but the item in the second row and the first column is `0`.\n",
        "\n",
        "  ```\n",
        "  [[1, is_a_repeat],\n",
        "    [0, is_a_repeat]]\n",
        "  ```\n",
        "\n",
        "4. All the items in the first column are `1`.\n",
        "\n",
        "  ```\n",
        "  [[1, is_a_repeat],\n",
        "    [1, is_a_repeat]]\n",
        "  ```\n",
        "\n",
        "The value of `is_a_repeat` is either `0` or `1`.\n",
        "\n",
        "  - The value `0` or `1` in the first column represents whether the player played `Heads` or `Tails`, respectively, in the last attempt.\n",
        "  \n",
        "  - The value `0` or `1` in the second column represents whether a situation (a combination of `last_2, last_1` and current player input) is repeated or not. The value `0` means the situation is NOT repeated and `1` means the situation is repeated.\n",
        "\n",
        "The second block will also have the exact same possibilities."
      ]
    },
    {
      "cell_type": "markdown",
      "metadata": {
        "id": "uwQW2KgKcu6B"
      },
      "source": [
        "---"
      ]
    },
    {
      "cell_type": "markdown",
      "metadata": {
        "id": "Vfeuw23lVCxW"
      },
      "source": [
        "#### The `update_inputs()` Function\n",
        "\n"
      ]
    },
    {
      "cell_type": "code",
      "metadata": {
        "id": "Dms5n1NhMZAi"
      },
      "source": [
        "def update_inputs(current):\n",
        "  if inputs[last_2][last_1][0] == current:\n",
        "    inputs[last_2][last_1][1] = 1\n",
        "    inputs[last_2][last_1][0] = current\n",
        "  else:\n",
        "    inputs[last_2][last_1][1] = 0\n",
        "    inputs[last_2][last_1][0] = current\n",
        "\n",
        "  last_2 = last_1\n",
        "  last_1 = current"
      ],
      "execution_count": null,
      "outputs": []
    },
    {
      "cell_type": "markdown",
      "metadata": {
        "id": "KwG1KuUsc2iP"
      },
      "source": [
        "---"
      ]
    },
    {
      "cell_type": "markdown",
      "metadata": {
        "id": "cTIIPwaQYse1"
      },
      "source": [
        "#### The `prediction()` Function\n",
        "\n"
      ]
    },
    {
      "cell_type": "code",
      "metadata": {
        "id": "vDJJRnrjKaEC"
      },
      "source": [
        "def prediction():\n",
        "  if inputs[last_2][last_1][1] == 1:\n",
        "    predict = inputs[last_2][last_1][0]\n",
        "  else:\n",
        "    predict = random.randint(0, 1)\n",
        "  return predict"
      ],
      "execution_count": null,
      "outputs": []
    },
    {
      "cell_type": "markdown",
      "metadata": {
        "id": "ipMiJfsTc4h4"
      },
      "source": [
        "---"
      ]
    },
    {
      "cell_type": "markdown",
      "metadata": {
        "id": "ETmWmRMHhrvc"
      },
      "source": [
        "####The `update_scores()` Function\n",
        "\n"
      ]
    },
    {
      "cell_type": "code",
      "metadata": {
        "id": "Wlomn5gAhrgG"
      },
      "source": [
        "scores = [0, 0] # [computer_score, player_score]\n",
        "\n",
        "def update_scores(predicted, player_input):\n",
        "  if predicted == player_input:\n",
        "    scores[0] =  scores[0] + 1\n",
        "    print(\"\\nComputer Score:\", scores[0], \"\\nPlayer Score:\", scores[1]) # The '\\n' is called a newline character. It adds an empty newline.\n",
        "\n",
        "  else:\n",
        "    scores[1] = scores[1] + 1\n",
        "    print(\"\\nComputer Score:\", scores[0], \"\\nPlayer Score:\", scores[1])"
      ],
      "execution_count": null,
      "outputs": []
    },
    {
      "cell_type": "markdown",
      "metadata": {
        "id": "IYuskDGYjiSp"
      },
      "source": [
        "---"
      ]
    },
    {
      "cell_type": "markdown",
      "metadata": {
        "id": "iGRn-kJmDqZe"
      },
      "source": [
        "#### The `reset()` Function\n",
        "\n"
      ]
    },
    {
      "cell_type": "code",
      "metadata": {
        "id": "33rHBuc1L7Ww"
      },
      "source": [
        "def reset():\n",
        "  for i in range(2):\n",
        "    for j in range(2):\n",
        "      for k in range(2):\n",
        "        inputs[i][j][k] = 0\n",
        "\n",
        "  for i in range(len(scores)):\n",
        "    scores[i] = 0"
      ],
      "execution_count": null,
      "outputs": []
    },
    {
      "cell_type": "markdown",
      "metadata": {
        "id": "ICN5SalGIKoI"
      },
      "source": [
        "---"
      ]
    },
    {
      "cell_type": "markdown",
      "metadata": {
        "id": "JuHGxZn9aXJI"
      },
      "source": [
        "#### Putting Everything Together\n",
        "\n"
      ]
    },
    {
      "cell_type": "code",
      "metadata": {
        "id": "1k22BieyBUCl"
      },
      "source": [
        "import random\n",
        "import numpy as np\n",
        "\n",
        "inputs = np.zeros(shape=(2, 2, 2), dtype=int)\n",
        "\n",
        "last_1 = 0\n",
        "last_2 = 0\n",
        "\n",
        "scores = [0, 0] # [computer_score, player_score]\n",
        "\n",
        "def update_inputs(current):\n",
        "  global last_1, last_2\n",
        "  if inputs[last_2][last_1][0] == current:\n",
        "    inputs[last_2][last_1][1] = 1\n",
        "    inputs[last_2][last_1][0] = current\n",
        "  else:\n",
        "    inputs[last_2][last_1][1] = 0\n",
        "    inputs[last_2][last_1][0] = current\n",
        "\n",
        "  last_2 = last_1 # last_1 becomes last_2\n",
        "  last_1 = current # current becomes last_1, i.e., current -> last_1 -> last_2\n",
        "\n",
        "def prediction():\n",
        "  if inputs[last_2][last_1][1] == 1:\n",
        "    predict = inputs[last_2][last_1][0]\n",
        "  else:\n",
        "    predict = random.randint(0, 1)\n",
        "  return predict\n",
        "\n",
        "def update_scores(predicted, player_input):\n",
        "  if predicted == player_input:\n",
        "    scores[0] = scores[0] + 1\n",
        "    print(\"\\nComputer Score:\", scores[0], \"\\nPlayer Score:\", scores[1])\n",
        "\n",
        "  else:\n",
        "    scores[1] = scores[1] + 1\n",
        "    print(\"\\nComputer Score:\", scores[0], \"\\nPlayer Score:\", scores[1])\n",
        "\n",
        "def reset():\n",
        "  for i in range(2):\n",
        "    for j in range(2):\n",
        "      for k in range(2):\n",
        "        inputs[i][j][k] = 0\n",
        "\n",
        "  for i in range(2):\n",
        "    scores[i] = 0"
      ],
      "execution_count": null,
      "outputs": []
    },
    {
      "cell_type": "markdown",
      "metadata": {
        "id": "rmiJ2qcpvHJa"
      },
      "source": [
        "---"
      ]
    },
    {
      "cell_type": "markdown",
      "metadata": {
        "id": "KOeUgF8kvH4q"
      },
      "source": [
        "#### The `gameplay()` Function"
      ]
    },
    {
      "cell_type": "code",
      "metadata": {
        "id": "AdiwBplXCXfK"
      },
      "source": [
        "def gameplay():\n",
        "  reset()\n",
        "  print(inputs)\n",
        "  print(scores)\n",
        "  valid_entries = ['0', '1']\n",
        "  while True:\n",
        "    predicted = prediction()\n",
        "    player_input = input(\"\\nEnter either 1 or 0: \")\n",
        "\n",
        "    while player_input not in valid_entries:\n",
        "      print(\"\\nInvalid Input!\")\n",
        "      player_input = input(\"Please enter either 1 or 0: \")\n",
        "\n",
        "    player_input = int(player_input)\n",
        "    update_inputs(player_input)\n",
        "    update_scores(predicted, player_input)\n",
        "\n",
        "    if scores[0] == 20:\n",
        "      print(\"\\nBad Luck, Computer Wins!\\n\")\n",
        "      break\n",
        "\n",
        "    elif scores[1] == 20:\n",
        "      print(\"\\nCongrats, You Won!\\n\")\n",
        "      break"
      ],
      "execution_count": null,
      "outputs": []
    },
    {
      "cell_type": "code",
      "metadata": {
        "id": "PDSE2tF_C129",
        "colab": {
          "base_uri": "https://localhost:8080/"
        },
        "outputId": "d5c44d2e-fce2-4360-f703-89b907a972e7"
      },
      "source": [
        "gameplay()"
      ],
      "execution_count": null,
      "outputs": [
        {
          "output_type": "stream",
          "name": "stdout",
          "text": [
            "[[[0 0]\n",
            "  [0 0]]\n",
            "\n",
            " [[0 0]\n",
            "  [0 0]]]\n",
            "[0, 0]\n",
            "\n",
            "Enter either 1 or 0: 0\n",
            "\n",
            "Computer Score: 1 \n",
            "Player Score: 0\n",
            "\n",
            "Enter either 1 or 0: 0\n",
            "\n",
            "Computer Score: 2 \n",
            "Player Score: 0\n",
            "\n",
            "Enter either 1 or 0: 0\n",
            "\n",
            "Computer Score: 3 \n",
            "Player Score: 0\n",
            "\n",
            "Enter either 1 or 0: 1\n",
            "\n",
            "Computer Score: 3 \n",
            "Player Score: 1\n",
            "\n",
            "Enter either 1 or 0: 1\n",
            "\n",
            "Computer Score: 4 \n",
            "Player Score: 1\n",
            "\n",
            "Enter either 1 or 0: 1\n",
            "\n",
            "Computer Score: 5 \n",
            "Player Score: 1\n",
            "\n",
            "Enter either 1 or 0: 1\n",
            "\n",
            "Computer Score: 6 \n",
            "Player Score: 1\n",
            "\n",
            "Enter either 1 or 0: 0\n",
            "\n",
            "Computer Score: 6 \n",
            "Player Score: 2\n",
            "\n",
            "Enter either 1 or 0: \n",
            "\n",
            "Invalid Input!\n",
            "Please enter either 1 or 0: \n",
            "\n",
            "Invalid Input!\n",
            "Please enter either 1 or 0: 0\n",
            "\n",
            "Computer Score: 7 \n",
            "Player Score: 2\n",
            "\n",
            "Enter either 1 or 0: 1\n",
            "\n",
            "Computer Score: 7 \n",
            "Player Score: 3\n",
            "\n",
            "Enter either 1 or 0: 0\n",
            "\n",
            "Computer Score: 8 \n",
            "Player Score: 3\n",
            "\n",
            "Enter either 1 or 0: 0\n",
            "\n",
            "Computer Score: 9 \n",
            "Player Score: 3\n",
            "\n",
            "Enter either 1 or 0: 0\n",
            "\n",
            "Computer Score: 9 \n",
            "Player Score: 4\n",
            "\n",
            "Enter either 1 or 0: 1\n",
            "\n",
            "Computer Score: 9 \n",
            "Player Score: 5\n",
            "\n",
            "Enter either 1 or 0: 1\n",
            "\n",
            "Computer Score: 10 \n",
            "Player Score: 5\n",
            "\n",
            "Enter either 1 or 0: 1\n",
            "\n",
            "Computer Score: 11 \n",
            "Player Score: 5\n",
            "\n",
            "Enter either 1 or 0: 0\n",
            "\n",
            "Computer Score: 11 \n",
            "Player Score: 6\n",
            "\n",
            "Enter either 1 or 0: 0\n",
            "\n",
            "Computer Score: 12 \n",
            "Player Score: 6\n",
            "\n",
            "Enter either 1 or 0: 1\n",
            "\n",
            "Computer Score: 13 \n",
            "Player Score: 6\n",
            "\n",
            "Enter either 1 or 0: 1\n",
            "\n",
            "Computer Score: 14 \n",
            "Player Score: 6\n",
            "\n",
            "Enter either 1 or 0: 1\n",
            "\n",
            "Computer Score: 14 \n",
            "Player Score: 7\n",
            "\n",
            "Enter either 1 or 0: 1\n",
            "\n",
            "Computer Score: 14 \n",
            "Player Score: 8\n",
            "\n",
            "Enter either 1 or 0: 0\n",
            "\n",
            "Computer Score: 14 \n",
            "Player Score: 9\n",
            "\n",
            "Enter either 1 or 0: 1\n",
            "\n",
            "Computer Score: 14 \n",
            "Player Score: 10\n",
            "\n",
            "Enter either 1 or 0: 1\n",
            "\n",
            "Computer Score: 15 \n",
            "Player Score: 10\n",
            "\n",
            "Enter either 1 or 0: 0\n",
            "\n",
            "Computer Score: 16 \n",
            "Player Score: 10\n",
            "\n",
            "Enter either 1 or 0: 0\n",
            "\n",
            "Computer Score: 17 \n",
            "Player Score: 10\n",
            "\n",
            "Enter either 1 or 0: \n",
            "\n",
            "Invalid Input!\n",
            "Please enter either 1 or 0: 1\n",
            "\n",
            "Computer Score: 18 \n",
            "Player Score: 10\n",
            "\n",
            "Enter either 1 or 0: 1\n",
            "\n",
            "Computer Score: 19 \n",
            "Player Score: 10\n",
            "\n",
            "Enter either 1 or 0: 0\n",
            "\n",
            "Computer Score: 20 \n",
            "Player Score: 10\n",
            "\n",
            "Bad Luck, Computer Wins!\n",
            "\n"
          ]
        }
      ]
    },
    {
      "cell_type": "markdown",
      "metadata": {
        "id": "YigbTCM4QXVr"
      },
      "source": [
        "---"
      ]
    }
  ]
}